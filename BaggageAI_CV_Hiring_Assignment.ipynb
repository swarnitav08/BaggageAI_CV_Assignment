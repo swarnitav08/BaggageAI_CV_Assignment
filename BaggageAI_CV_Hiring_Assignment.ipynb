{
  "nbformat": 4,
  "nbformat_minor": 0,
  "metadata": {
    "colab": {
      "name": "BaggageAI_CV_Hiring_Assignment.ipynb",
      "provenance": [],
      "authorship_tag": "ABX9TyPA+s84qDSyXJpQpKjnFRqX",
      "include_colab_link": true
    },
    "kernelspec": {
      "name": "python3",
      "display_name": "Python 3"
    }
  },
  "cells": [
    {
      "cell_type": "markdown",
      "metadata": {
        "id": "view-in-github",
        "colab_type": "text"
      },
      "source": [
        "<a href=\"https://colab.research.google.com/github/swarnitav08/BaggageAI_CV_Assignment/blob/main/BaggageAI_CV_Hiring_Assignment.ipynb\" target=\"_parent\"><img src=\"https://colab.research.google.com/assets/colab-badge.svg\" alt=\"Open In Colab\"/></a>"
      ]
    },
    {
      "cell_type": "markdown",
      "metadata": {
        "id": "YsgpZ06EpGwY"
      },
      "source": [
        "##BaggageAI Computer Vision Hiring Assignment\n",
        "Case Study:- Image Processing\n",
        "\n",
        "You are given two sets of images:- background and threat objects. Background images are the background x-ray images of baggage that gets generated after passing through a X-ray machine at airport. Threat images are the x-ray images of threats that are prohibited at airport while travelling.\n",
        "\n",
        "• Your task is to cut the threat objects, scale it down, rotate with 45 degree and paste it into the background images using image processing techniques in python.\n",
        "\n",
        "• Threat objects should be translucent, means it should not look like that it is cut pasted. It should look like that the threat was already there in the background images. Translucent means the threat objects should have shades of background where it is pasted.\n",
        "\n",
        "• Threat should not go outside the boundary of the baggage. **difficult**\n",
        "\n",
        "• If there is any background of threat objects, then it should not be cut pasted into the background images, which means while cutting the threat objects, the boundary of a threat object should be tight-bound."
      ]
    },
    {
      "cell_type": "markdown",
      "metadata": {
        "id": "Z1wBVytGpMzN"
      },
      "source": [
        "##INTRODUCTION\n",
        "\n",
        "Various Image processing techniques have been used to complete the above given task. The libraries used are OpenCV and PIL (Python Imaging Library) along with imutils and glob. The order followed for taking threat images is as per given in the folders provided. \n",
        "\n",
        "1) Transparency is maintained at 65% for all threat images so that they appear translucent after pasting. Concept of masking has been used to isolate threat object from its background.\n",
        "\n",
        "2) Scaling down (resizing) has been done based on coresponding background image height has been done for all threat images.\n",
        "\n",
        "3) Rotate with 45 degree has been done for all threat images.\n",
        "\n",
        "Author: Swarnita Venkatraman\n",
        "\n",
        "Date: 02/11/2020"
      ]
    },
    {
      "cell_type": "code",
      "metadata": {
        "id": "JR9DlYKlpLay",
        "outputId": "d0446f4b-288f-4abf-a7c4-3c1767518ba1",
        "colab": {
          "resources": {
            "http://localhost:8080/nbextensions/google.colab/files.js": {
              "data": "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",
              "ok": true,
              "headers": [
                [
                  "content-type",
                  "application/javascript"
                ]
              ],
              "status": 200,
              "status_text": ""
            }
          },
          "base_uri": "https://localhost:8080/",
          "height": 72
        }
      },
      "source": [
        "#uploading entire zip file at once\n",
        "from google.colab import files\n",
        "uploaded = files.upload()"
      ],
      "execution_count": 2,
      "outputs": [
        {
          "output_type": "display_data",
          "data": {
            "text/html": [
              "\n",
              "     <input type=\"file\" id=\"files-6477b6a9-831b-4772-a109-ab9051599a7e\" name=\"files[]\" multiple disabled\n",
              "        style=\"border:none\" />\n",
              "     <output id=\"result-6477b6a9-831b-4772-a109-ab9051599a7e\">\n",
              "      Upload widget is only available when the cell has been executed in the\n",
              "      current browser session. Please rerun this cell to enable.\n",
              "      </output>\n",
              "      <script src=\"/nbextensions/google.colab/files.js\"></script> "
            ],
            "text/plain": [
              "<IPython.core.display.HTML object>"
            ]
          },
          "metadata": {
            "tags": []
          }
        },
        {
          "output_type": "stream",
          "text": [
            "Saving BaggageAI_CV_Hiring_Assignment.zip to BaggageAI_CV_Hiring_Assignment.zip\n"
          ],
          "name": "stdout"
        }
      ]
    },
    {
      "cell_type": "code",
      "metadata": {
        "id": "yHcolEyCpRQi",
        "outputId": "c81bf3fa-6473-4f89-d394-d84035b81cd1",
        "colab": {
          "base_uri": "https://localhost:8080/"
        }
      },
      "source": [
        "#unzipping the file\n",
        "!unzip BaggageAI_CV_Hiring_Assignment.zip"
      ],
      "execution_count": 3,
      "outputs": [
        {
          "output_type": "stream",
          "text": [
            "Archive:  BaggageAI_CV_Hiring_Assignment.zip\n",
            "   creating: BaggageAI_CV_Hiring_Assignment/\n",
            "  inflating: BaggageAI_CV_Hiring_Assignment/BaggageAI_CV_Hiring_assignment.pdf  \n",
            "   creating: BaggageAI_CV_Hiring_Assignment/background_images/\n",
            "  inflating: BaggageAI_CV_Hiring_Assignment/background_images/BAGGAGE_20180811_175323_83216_B_1.jpg  \n",
            "  inflating: BaggageAI_CV_Hiring_Assignment/background_images/BAGGAGE_20180811_175328_83216_A_1.jpg  \n",
            "  inflating: BaggageAI_CV_Hiring_Assignment/background_images/S0210209058_20180811232942_L-1_1.jpg  \n",
            "  inflating: BaggageAI_CV_Hiring_Assignment/background_images/S0300542812_20180822020845_L-10_1.jpg  \n",
            "  inflating: BaggageAI_CV_Hiring_Assignment/background_images/S0320365070_20180821160850_L-12_5.jpg  \n",
            "   creating: BaggageAI_CV_Hiring_Assignment/threat_images/\n",
            "  inflating: BaggageAI_CV_Hiring_Assignment/threat_images/BAGGAGE_20170522_113049_80428_A.jpg  \n",
            "  inflating: BaggageAI_CV_Hiring_Assignment/threat_images/BAGGAGE_20170522_115645_80428_B.jpg  \n",
            "  inflating: BaggageAI_CV_Hiring_Assignment/threat_images/BAGGAGE_20170523_085803_80428_D.jpg  \n",
            "  inflating: BaggageAI_CV_Hiring_Assignment/threat_images/BAGGAGE_20170523_094231_80428_B.jpg  \n",
            "  inflating: BaggageAI_CV_Hiring_Assignment/threat_images/BAGGAGE_20170524_075554_80428_B.jpg  \n",
            "   creating: BaggageAI_CV_Hiring_Assignment/sample_output_images/\n",
            "  inflating: BaggageAI_CV_Hiring_Assignment/sample_output_images/output_BAGGAGE_20180811_175305_83216_B_1.png  \n",
            "  inflating: BaggageAI_CV_Hiring_Assignment/sample_output_images/output_BAGGAGE_20180811_175323_83216_B_1.png  \n",
            "  inflating: BaggageAI_CV_Hiring_Assignment/sample_output_images/output_BAGGAGE_20180811_175206_83216_B_1.png  \n",
            "  inflating: BaggageAI_CV_Hiring_Assignment/sample_output_images/output_BAGGAGE_20180811_175247_83216_A_2.png  \n"
          ],
          "name": "stdout"
        }
      ]
    },
    {
      "cell_type": "code",
      "metadata": {
        "id": "_GkjgPxZp4cL"
      },
      "source": [
        "#importing necessary libraries\n",
        "import cv2\n",
        "import imutils\n",
        "from google.colab.patches import cv2_imshow\n",
        "from PIL import Image\n",
        "import glob\n",
        "import numpy"
      ],
      "execution_count": 4,
      "outputs": []
    },
    {
      "cell_type": "code",
      "metadata": {
        "id": "eCYpTkA0p65t"
      },
      "source": [
        "#storing all threat images in image_list\n",
        "image_list = []\n",
        "for filename in glob.glob(\"BaggageAI_CV_Hiring_Assignment/threat_images/*.jpg\"):\n",
        "    im=Image.open(filename)\n",
        "    image_list.append(im)"
      ],
      "execution_count": 5,
      "outputs": []
    },
    {
      "cell_type": "code",
      "metadata": {
        "id": "CcVrOUEBp_En",
        "outputId": "8532c282-7200-4815-a0e5-ed97f45d40a0",
        "colab": {
          "base_uri": "https://localhost:8080/"
        }
      },
      "source": [
        "image_list"
      ],
      "execution_count": 6,
      "outputs": [
        {
          "output_type": "execute_result",
          "data": {
            "text/plain": [
              "[<PIL.JpegImagePlugin.JpegImageFile image mode=RGB size=147x832 at 0x7F7B8F456C88>,\n",
              " <PIL.JpegImagePlugin.JpegImageFile image mode=RGB size=157x768 at 0x7F7B8F3E6080>,\n",
              " <PIL.JpegImagePlugin.JpegImageFile image mode=RGB size=347x768 at 0x7F7B8F3E6EB8>,\n",
              " <PIL.JpegImagePlugin.JpegImageFile image mode=RGB size=273x768 at 0x7F7B8F44C320>,\n",
              " <PIL.JpegImagePlugin.JpegImageFile image mode=RGB size=232x768 at 0x7F7B8F44C390>]"
            ]
          },
          "metadata": {
            "tags": []
          },
          "execution_count": 6
        }
      ]
    },
    {
      "cell_type": "markdown",
      "metadata": {
        "id": "y0MDb4nXqHsj"
      },
      "source": [
        "Making mask transparent so that threat image appears translucent"
      ]
    },
    {
      "cell_type": "code",
      "metadata": {
        "id": "aH5rgVIcqA1U"
      },
      "source": [
        "masked=[]\n",
        "image_no=1\n",
        "TRANSPARENCY=65 #setting transparency percentage\n",
        "for img in image_list:\n",
        "  mask_2=img.convert(\"L\")\n",
        "  th=248 # the value adjusted based on all images\n",
        "  mask_2 = mask_2.point(lambda i: i < th and 255)\n",
        "  paste_mask_2 = mask_2.split()[0].point(lambda i: i * TRANSPARENCY / 100.) #splitting into individual bands and multiplying each pixel by transparency\n",
        "  masked.append(paste_mask_2)\n",
        "  name = 'paste_mask' + str(image_no) + '.png'\n",
        "  paste_mask_2.save(name, 'PNG')\n",
        "  image_no += 1"
      ],
      "execution_count": 7,
      "outputs": []
    },
    {
      "cell_type": "code",
      "metadata": {
        "id": "QBGzgXXaqM98",
        "outputId": "187085f0-f1db-4022-8658-8f1d7045798f",
        "colab": {
          "base_uri": "https://localhost:8080/"
        }
      },
      "source": [
        "masked #saving all paste masks in a list 'masked'"
      ],
      "execution_count": 8,
      "outputs": [
        {
          "output_type": "execute_result",
          "data": {
            "text/plain": [
              "[<PIL.Image.Image image mode=L size=147x832 at 0x7F7B8F4085C0>,\n",
              " <PIL.Image.Image image mode=L size=157x768 at 0x7F7B8F408630>,\n",
              " <PIL.Image.Image image mode=L size=347x768 at 0x7F7B8F4085F8>,\n",
              " <PIL.Image.Image image mode=L size=273x768 at 0x7F7B8F408668>,\n",
              " <PIL.Image.Image image mode=L size=232x768 at 0x7F7B8F4086A0>]"
            ]
          },
          "metadata": {
            "tags": []
          },
          "execution_count": 8
        }
      ]
    },
    {
      "cell_type": "code",
      "metadata": {
        "id": "K451IeGAqRbA"
      },
      "source": [
        "#saving height of background image in a list 'images_list' to resize corresponding threat image\n",
        "images_list=[]\n",
        "for filename in glob.glob(\"BaggageAI_CV_Hiring_Assignment/background_images/*.jpg\"):\n",
        "    im=Image.open(filename)\n",
        "    images_list.append(im.size[1])"
      ],
      "execution_count": 9,
      "outputs": []
    },
    {
      "cell_type": "code",
      "metadata": {
        "id": "hAMuu5WSqTu2",
        "outputId": "73c27023-26ac-42ab-d02b-67829a800b61",
        "colab": {
          "base_uri": "https://localhost:8080/"
        }
      },
      "source": [
        "images_list"
      ],
      "execution_count": 10,
      "outputs": [
        {
          "output_type": "execute_result",
          "data": {
            "text/plain": [
              "[630, 191, 793, 600, 377]"
            ]
          },
          "metadata": {
            "tags": []
          },
          "execution_count": 10
        }
      ]
    },
    {
      "cell_type": "markdown",
      "metadata": {
        "id": "8OEE7AVKqYiG"
      },
      "source": [
        "Resizing and Rotating threat image"
      ]
    },
    {
      "cell_type": "code",
      "metadata": {
        "id": "eb-EqpENqVdB"
      },
      "source": [
        "image_no=1 #initialising\n",
        "\n",
        "for (filenamee,i) in zip(glob.glob(\"BaggageAI_CV_Hiring_Assignment/threat_images/*.jpg\"),images_list):\n",
        "    images=cv2.imread(filenamee)  \n",
        "    imagee = imutils.resize(images,height=i) #set corresponding height\n",
        "    rotate = imutils.rotate_bound(imagee, 45) #rotate by 45 degrees\n",
        "    name = 'resized' + str(image_no) + '.png'\n",
        "    cv2.imwrite(name, rotate)\n",
        "    image_no += 1"
      ],
      "execution_count": 11,
      "outputs": []
    },
    {
      "cell_type": "markdown",
      "metadata": {
        "id": "vbmDIauYqdXc"
      },
      "source": [
        "Resizing and Rotating mask"
      ]
    },
    {
      "cell_type": "code",
      "metadata": {
        "id": "4VNAL6ipqacG"
      },
      "source": [
        "image_no=1\n",
        "\n",
        "for (filenamee,i) in zip(masked,images_list):\n",
        "    images = cv2.cvtColor(numpy.array(filenamee),cv2.COLOR_RGB2BGR) #reading using cv2 after converting to numpy array in colour as images saved in PIL format inside 'masked'\n",
        "    imagee = imutils.resize(images,height=i) #If you need to modify the image resolution and keep your aspect ratio use the function imutils\n",
        "    rotate = imutils.rotate_bound(imagee, 45)\n",
        "    name = 'resized_mask' + str(image_no) + '.png'\n",
        "    cv2.imwrite(name, rotate)\n",
        "    image_no += 1"
      ],
      "execution_count": 12,
      "outputs": []
    },
    {
      "cell_type": "markdown",
      "metadata": {
        "id": "HO2_H40xqzVf"
      },
      "source": [
        "Pasting threat image on background image"
      ]
    },
    {
      "cell_type": "code",
      "metadata": {
        "id": "GXOCvnkOqf0L"
      },
      "source": [
        "l=[1,2,3,4,5] #for iterating"
      ],
      "execution_count": 14,
      "outputs": []
    },
    {
      "cell_type": "code",
      "metadata": {
        "id": "9rOz7Qmdq1n9"
      },
      "source": [
        "image_no=1\n",
        "\n",
        "for (filenamee,i,j) in zip(glob.glob(\"BaggageAI_CV_Hiring_Assignment/background_images/*.jpg\"),l,l):\n",
        "  im1=Image.open(filenamee) #background image\n",
        "  back_im = im1.copy()\n",
        "  im2 = Image.open('resized'+str(i)+'.png') #resized and rotated threat image\n",
        "  mask_im = Image.open('resized_mask'+str(j)+'.png') #resized and rotated mask\n",
        "  mask_imm=mask_im.convert('L')#making it single channel image\n",
        "  #When the mask image is 8-bit gray scale (mode='L'), the base image is output when the value of the mask image is 0 (black), \n",
        "  #and the pasted image is output when 255 (white).\n",
        "  back_im.paste(im2, (48,40), mask_imm) #pasting \n",
        "  name = 'final' + str(image_no) + '.png'\n",
        "  back_im.save(name, quality=95)\n",
        "  image_no += 1"
      ],
      "execution_count": 15,
      "outputs": []
    },
    {
      "cell_type": "code",
      "metadata": {
        "id": "DCmTBR24q6XV"
      },
      "source": [
        ""
      ],
      "execution_count": null,
      "outputs": []
    }
  ]
}